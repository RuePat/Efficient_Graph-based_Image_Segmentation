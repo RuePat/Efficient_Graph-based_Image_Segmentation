{
 "cells": [
  {
   "cell_type": "code",
   "execution_count": 1,
   "id": "23ff415a-551c-48c8-8253-77ff9b41bbab",
   "metadata": {},
   "outputs": [
    {
     "name": "stdout",
     "output_type": "stream",
     "text": [
      "Collecting annoy==1.16.3\n",
      "  Downloading annoy-1.16.3.tar.gz (644 kB)\n",
      "\u001b[2K     \u001b[90m━━━━━━━━━━━━━━━━━━━━━━━━━━━━━━━━━━━━━━━\u001b[0m \u001b[32m644.3/644.3 KB\u001b[0m \u001b[31m9.5 MB/s\u001b[0m eta \u001b[36m0:00:00\u001b[0ma \u001b[36m0:00:01\u001b[0m\n",
      "\u001b[?25h  Preparing metadata (setup.py) ... \u001b[?25ldone\n",
      "\u001b[?25hBuilding wheels for collected packages: annoy\n",
      "  Building wheel for annoy (setup.py) ... \u001b[?25ldone\n",
      "\u001b[?25h  Created wheel for annoy: filename=annoy-1.16.3-cp38-cp38-linux_x86_64.whl size=452456 sha256=c36fe171002def9f71aaa66666e77dabf4f86f166d696406f7d1f5c7da4f9ca7\n",
      "  Stored in directory: /home/jovyan/.cache/pip/wheels/93/66/00/3527630e17462dcb505b4688f787b40bc020268237d54e5e79\n",
      "Successfully built annoy\n",
      "Installing collected packages: annoy\n",
      "Successfully installed annoy-1.16.3\n"
     ]
    }
   ],
   "source": [
    "!pip install annoy==1.16.3\n"
   ]
  },
  {
   "cell_type": "code",
   "execution_count": 2,
   "id": "cdc9a0d1-a2ac-417f-8265-65d9cf87c156",
   "metadata": {},
   "outputs": [
    {
     "name": "stdout",
     "output_type": "stream",
     "text": [
      "Collecting numpy==1.18.1\n",
      "  Downloading numpy-1.18.1-cp38-cp38-manylinux1_x86_64.whl (20.6 MB)\n",
      "\u001b[2K     \u001b[90m━━━━━━━━━━━━━━━━━━━━━━━━━━━━━━━━━━━━━━━━\u001b[0m \u001b[32m20.6/20.6 MB\u001b[0m \u001b[31m74.8 MB/s\u001b[0m eta \u001b[36m0:00:00\u001b[0m00:01\u001b[0m00:01\u001b[0m\n",
      "\u001b[?25hInstalling collected packages: numpy\n",
      "  Attempting uninstall: numpy\n",
      "    Found existing installation: numpy 1.22.2\n",
      "    Uninstalling numpy-1.22.2:\n",
      "      Successfully uninstalled numpy-1.22.2\n",
      "\u001b[31mERROR: pip's dependency resolver does not currently take into account all the packages that are installed. This behaviour is the source of the following dependency conflicts.\n",
      "dask-cudf 21.12.2 requires cupy-cuda115, which is not installed.\n",
      "cudf 21.12.2 requires cupy-cuda115, which is not installed.\n",
      "tensorflow 2.6.0 requires numpy~=1.19.2, but you have numpy 1.18.1 which is incompatible.\u001b[0m\u001b[31m\n",
      "\u001b[0mSuccessfully installed numpy-1.19.5\n"
     ]
    }
   ],
   "source": [
    "!pip install numpy==1.18.1\n"
   ]
  },
  {
   "cell_type": "code",
   "execution_count": 3,
   "id": "2d3ef0e2-ae51-4c69-ad98-c59d0c76c76d",
   "metadata": {},
   "outputs": [
    {
     "name": "stdout",
     "output_type": "stream",
     "text": [
      "Collecting scipy==1.4.1\n",
      "  Downloading scipy-1.4.1-cp38-cp38-manylinux1_x86_64.whl (26.0 MB)\n",
      "\u001b[2K     \u001b[90m━━━━━━━━━━━━━━━━━━━━━━━━━━━━━━━━━━━━━━━━\u001b[0m \u001b[32m26.0/26.0 MB\u001b[0m \u001b[31m54.9 MB/s\u001b[0m eta \u001b[36m0:00:00\u001b[0m00:01\u001b[0m00:01\u001b[0m\n",
      "\u001b[?25hRequirement already satisfied: numpy>=1.13.3 in /opt/conda/lib/python3.8/site-packages (from scipy==1.4.1) (1.19.5)\n",
      "Installing collected packages: scipy\n",
      "  Attempting uninstall: scipy\n",
      "    Found existing installation: scipy 1.8.0\n",
      "    Uninstalling scipy-1.8.0:\n",
      "      Successfully uninstalled scipy-1.8.0\n",
      "Successfully installed scipy-1.4.1\n"
     ]
    }
   ],
   "source": [
    "# Python == 3.7.6\n",
    "!pip install scipy==1.4.1"
   ]
  },
  {
   "cell_type": "code",
   "execution_count": null,
   "id": "80285b7a-f594-4120-af90-83f8c46ada7d",
   "metadata": {},
   "outputs": [],
   "source": [
    "\n"
   ]
  },
  {
   "cell_type": "code",
   "execution_count": 4,
   "id": "0484d9c9-40b3-4d24-9e9e-987a18b3fda2",
   "metadata": {},
   "outputs": [],
   "source": [
    "import segmentation as seg    #import library\n",
    "from skimage import transform\n",
    "from matplotlib import pyplot as plt\n",
    "import numpy as np\n"
   ]
  },
  {
   "cell_type": "code",
   "execution_count": 5,
   "id": "b3e93d26-e586-40fe-acc5-eb1784c22e37",
   "metadata": {},
   "outputs": [
    {
     "name": "stdout",
     "output_type": "stream",
     "text": [
      "------------------------------------------\n",
      "grid type graph construction done\n",
      "------------------------------------------\n",
      "------------------------------------------\n",
      "processing 0'th channel of Grid Graph\n",
      "------------------------------------------\n",
      "------------------------------------------\n",
      "processing 1'th channel of Grid Graph\n",
      "------------------------------------------\n",
      "------------------------------------------\n",
      "processing 2'th channel of Grid Graph\n",
      "------------------------------------------\n",
      "-----------------\n",
      "Segmentation done\n",
      "-----------------\n"
     ]
    },
    {
     "name": "stderr",
     "output_type": "stream",
     "text": [
      "/home/jovyan/work/Seg/disjoint_set.py:73: RuntimeWarning: overflow encountered in long_scalars\n",
      "  self._arr[yp][2] += self._arr[xp][2]\n"
     ]
    },
    {
     "name": "stdout",
     "output_type": "stream",
     "text": [
      "--------------------\n",
      "colouring image done\n",
      "--------------------\n"
     ]
    },
    {
     "data": {
      "text/plain": [
       "<matplotlib.image.AxesImage at 0x7fecf1cc7670>"
      ]
     },
     "execution_count": 5,
     "metadata": {},
     "output_type": "execute_result"
    },
    {
     "data": {
      "image/png": "[encoded data removed]",
      "text/plain": [
       "<Figure size 432x288 with 1 Axes>"
      ]
     },
     "metadata": {
      "needs_background": "light"
     },
     "output_type": "display_data"
    }
   ],
   "source": [
    "path = '1.png'  #read image\n",
    "img = plt.imread(path).astype(np.int32)\n",
    "img = transform.resize(img, (320, 240), preserve_range=True)\n",
    "\n",
    "grid_graphs = seg.generate_graph(img)\n",
    "Segs = seg.segmentation(grid_graphs, img.shape[0], img.shape[1], k=300)\n",
    "segmented_img= seg.draw_img(Segs, img.shape[0], img.shape[1])\n",
    "\n",
    "plt.imshow(segmented_img)"
   ]
  },
  {
   "cell_type": "code",
   "execution_count": null,
   "id": "30fd2cc2-4c7d-4157-bdc9-cea1e514dd8e",
   "metadata": {},
   "outputs": [],
   "source": []
  },
  {
   "cell_type": "code",
   "execution_count": null,
   "id": "938fc347-ab5b-46be-b457-2439ce45d2e1",
   "metadata": {},
   "outputs": [],
   "source": []
  }
 ],
 "metadata": {
  "kernelspec": {
   "display_name": "Python 3 (ipykernel)",
   "language": "python",
   "name": "python3"
  },
  "language_info": {
   "codemirror_mode": {
    "name": "ipython",
    "version": 3
   },
   "file_extension": ".py",
   "mimetype": "text/x-python",
   "name": "python",
   "nbconvert_exporter": "python",
   "pygments_lexer": "ipython3",
   "version": "3.8.12"
  }
 },
 "nbformat": 4,
 "nbformat_minor": 5
}
